{
 "cells": [
  {
   "cell_type": "code",
   "execution_count": 4,
   "metadata": {},
   "outputs": [],
   "source": [
    "import pandas as pd\n",
    "import random\n",
    "import matplotlib.pyplot as plt\n",
    "import numpy as np"
   ]
  },
  {
   "cell_type": "code",
   "execution_count": 5,
   "metadata": {},
   "outputs": [],
   "source": [
    "import warnings\n",
    "warnings.filterwarnings('ignore')"
   ]
  },
  {
   "cell_type": "code",
   "execution_count": 6,
   "metadata": {},
   "outputs": [],
   "source": [
    "data = pd.read_csv('pistachio.csv')"
   ]
  },
  {
   "cell_type": "code",
   "execution_count": 7,
   "metadata": {},
   "outputs": [],
   "source": [
    "def test_train_split(data,train_ratio):\n",
    "    \n",
    "    ''' \n",
    "    Splits the dataset with respect to the test train ratio\n",
    "    data: dataset to split\n",
    "    train_ratio: the ratio of train part to the whole dataset \n",
    "    returns test set, train set\n",
    "    '''\n",
    "\n",
    "    lenght_of_dataset = len(data)\n",
    "    amount_of_data = int((train_ratio/100)*lenght_of_dataset)\n",
    "\n",
    "    train_set = []\n",
    "    test_set = []\n",
    "\n",
    "    random_index_list = []\n",
    "\n",
    "    for index in range(amount_of_data):\n",
    "        while len(random_index_list) <= amount_of_data:\n",
    "            random_index = random.randrange(lenght_of_dataset)\n",
    "            if random_index not in random_index_list:\n",
    "                random_index_list.append(random_index)\n",
    "            else:\n",
    "                pass\n",
    "\n",
    "    for index in range(lenght_of_dataset):\n",
    "        if index not in random_index_list:\n",
    "            test_set.append(data.iloc[index])\n",
    "        else:\n",
    "            train_set.append(data.iloc[index])\n",
    "\n",
    "    return pd.DataFrame(test_set), pd.DataFrame(train_set)"
   ]
  },
  {
   "cell_type": "code",
   "execution_count": 8,
   "metadata": {},
   "outputs": [],
   "source": [
    "test,train = test_train_split(data,80)"
   ]
  },
  {
   "cell_type": "code",
   "execution_count": 9,
   "metadata": {},
   "outputs": [
    {
     "data": {
      "text/plain": [
       "array(['Kirmizi_Pistachio', 'Siit_Pistachio'], dtype=object)"
      ]
     },
     "execution_count": 9,
     "metadata": {},
     "output_type": "execute_result"
    }
   ],
   "source": [
    "test[test.columns[-1]].unique()"
   ]
  },
  {
   "cell_type": "code",
   "execution_count": 10,
   "metadata": {},
   "outputs": [],
   "source": [
    "def select_future(data = pd.DataFrame): \n",
    "    \n",
    "    ''' \n",
    "    This function takes the best feature to choose for optimal gain\n",
    "    returns the classes and their relevence, the higher is better\n",
    "    '''\n",
    "\n",
    "    # its assumed that one column is for results and its the last column\n",
    "    number_of_features = len(data.columns) - 2\n",
    "\n",
    "    purity = {}\n",
    "    \n",
    "\n",
    "    for index in range(number_of_features):\n",
    "\n",
    "        Kirmizi_Pistachio = 0\n",
    "        Siit_Pistachio = 0\n",
    "        \n",
    "        Kirmizi_Pistachio_values = 0\n",
    "        Siit_Pistachio_values = 0\n",
    "\n",
    "        std_dev = np.std(data[data.columns[index]])\n",
    "\n",
    "        for inner_index in range(len(data[data.columns[index]])):\n",
    "            \n",
    "            # i know that there is 2 possible pistachios in the dataset, so i hard-coded them.\n",
    "            std_dev = np.std(data[data.columns[inner_index]])\n",
    "            if data.iloc[inner_index][-1] == 'Kirmizi_Pistachio':\n",
    "                Kirmizi_Pistachio_values += data.iloc[inner_index][0]\n",
    "                Kirmizi_Pistachio += 1\n",
    "            elif data.iloc[inner_index][-1] == 'Siit_Pistachio':\n",
    "                Siit_Pistachio_values += data.iloc[inner_index][0]\n",
    "                Siit_Pistachio += 1\n",
    "\n",
    "        mean_siit = Siit_Pistachio_values/len(data[data.columns[index]])\n",
    "        mean_kirmizi = Kirmizi_Pistachio_values/len(data[data.columns[index]])\n",
    "\n",
    "        purity.update({data.columns[index] : abs(Kirmizi_Pistachio/Siit_Pistachio)})\n",
    "\n",
    "\n",
    "        \n",
    "    print(std_dev)\n",
    "\n",
    "        \n",
    "    return purity"
   ]
  },
  {
   "cell_type": "code",
   "execution_count": 11,
   "metadata": {},
   "outputs": [
    {
     "ename": "TypeError",
     "evalue": "could not convert string to float: 'Kirmizi_Pistachio'",
     "output_type": "error",
     "traceback": [
      "\u001b[1;31m---------------------------------------------------------------------------\u001b[0m",
      "\u001b[1;31mValueError\u001b[0m                                Traceback (most recent call last)",
      "File \u001b[1;32mc:\\Users\\hbkar\\OneDrive\\Masaüstü\\DecisionTree\\.venv\\Lib\\site-packages\\pandas\\core\\nanops.py:85\u001b[0m, in \u001b[0;36mdisallow.__call__.<locals>._f\u001b[1;34m(*args, **kwargs)\u001b[0m\n\u001b[0;32m     84\u001b[0m \u001b[39mtry\u001b[39;00m:\n\u001b[1;32m---> 85\u001b[0m     \u001b[39mreturn\u001b[39;00m f(\u001b[39m*\u001b[39;49margs, \u001b[39m*\u001b[39;49m\u001b[39m*\u001b[39;49mkwargs)\n\u001b[0;32m     86\u001b[0m \u001b[39mexcept\u001b[39;00m \u001b[39mValueError\u001b[39;00m \u001b[39mas\u001b[39;00m e:\n\u001b[0;32m     87\u001b[0m     \u001b[39m# we want to transform an object array\u001b[39;00m\n\u001b[0;32m     88\u001b[0m     \u001b[39m# ValueError message to the more typical TypeError\u001b[39;00m\n\u001b[0;32m     89\u001b[0m     \u001b[39m# e.g. this is normally a disallowed function on\u001b[39;00m\n\u001b[0;32m     90\u001b[0m     \u001b[39m# object arrays that contain strings\u001b[39;00m\n",
      "File \u001b[1;32mc:\\Users\\hbkar\\OneDrive\\Masaüstü\\DecisionTree\\.venv\\Lib\\site-packages\\pandas\\core\\nanops.py:147\u001b[0m, in \u001b[0;36mbottleneck_switch.__call__.<locals>.f\u001b[1;34m(values, axis, skipna, **kwds)\u001b[0m\n\u001b[0;32m    146\u001b[0m \u001b[39melse\u001b[39;00m:\n\u001b[1;32m--> 147\u001b[0m     result \u001b[39m=\u001b[39m alt(values, axis\u001b[39m=\u001b[39;49maxis, skipna\u001b[39m=\u001b[39;49mskipna, \u001b[39m*\u001b[39;49m\u001b[39m*\u001b[39;49mkwds)\n\u001b[0;32m    149\u001b[0m \u001b[39mreturn\u001b[39;00m result\n",
      "File \u001b[1;32mc:\\Users\\hbkar\\OneDrive\\Masaüstü\\DecisionTree\\.venv\\Lib\\site-packages\\pandas\\core\\nanops.py:1007\u001b[0m, in \u001b[0;36mnanvar\u001b[1;34m(values, axis, skipna, ddof, mask)\u001b[0m\n\u001b[0;32m   1001\u001b[0m \u001b[39m# xref GH10242\u001b[39;00m\n\u001b[0;32m   1002\u001b[0m \u001b[39m# Compute variance via two-pass algorithm, which is stable against\u001b[39;00m\n\u001b[0;32m   1003\u001b[0m \u001b[39m# cancellation errors and relatively accurate for small numbers of\u001b[39;00m\n\u001b[0;32m   1004\u001b[0m \u001b[39m# observations.\u001b[39;00m\n\u001b[0;32m   1005\u001b[0m \u001b[39m#\u001b[39;00m\n\u001b[0;32m   1006\u001b[0m \u001b[39m# See https://en.wikipedia.org/wiki/Algorithms_for_calculating_variance\u001b[39;00m\n\u001b[1;32m-> 1007\u001b[0m avg \u001b[39m=\u001b[39m _ensure_numeric(values\u001b[39m.\u001b[39;49msum(axis\u001b[39m=\u001b[39;49maxis, dtype\u001b[39m=\u001b[39;49mnp\u001b[39m.\u001b[39;49mfloat64)) \u001b[39m/\u001b[39m count\n\u001b[0;32m   1008\u001b[0m \u001b[39mif\u001b[39;00m axis \u001b[39mis\u001b[39;00m \u001b[39mnot\u001b[39;00m \u001b[39mNone\u001b[39;00m:\n",
      "File \u001b[1;32mc:\\Users\\hbkar\\OneDrive\\Masaüstü\\DecisionTree\\.venv\\Lib\\site-packages\\numpy\\core\\_methods.py:49\u001b[0m, in \u001b[0;36m_sum\u001b[1;34m(a, axis, dtype, out, keepdims, initial, where)\u001b[0m\n\u001b[0;32m     47\u001b[0m \u001b[39mdef\u001b[39;00m \u001b[39m_sum\u001b[39m(a, axis\u001b[39m=\u001b[39m\u001b[39mNone\u001b[39;00m, dtype\u001b[39m=\u001b[39m\u001b[39mNone\u001b[39;00m, out\u001b[39m=\u001b[39m\u001b[39mNone\u001b[39;00m, keepdims\u001b[39m=\u001b[39m\u001b[39mFalse\u001b[39;00m,\n\u001b[0;32m     48\u001b[0m          initial\u001b[39m=\u001b[39m_NoValue, where\u001b[39m=\u001b[39m\u001b[39mTrue\u001b[39;00m):\n\u001b[1;32m---> 49\u001b[0m     \u001b[39mreturn\u001b[39;00m umr_sum(a, axis, dtype, out, keepdims, initial, where)\n",
      "\u001b[1;31mValueError\u001b[0m: could not convert string to float: 'Kirmizi_Pistachio'",
      "\nThe above exception was the direct cause of the following exception:\n",
      "\u001b[1;31mTypeError\u001b[0m                                 Traceback (most recent call last)",
      "Cell \u001b[1;32mIn[11], line 1\u001b[0m\n\u001b[1;32m----> 1\u001b[0m relevence \u001b[39m=\u001b[39m select_future(train)\n",
      "Cell \u001b[1;32mIn[10], line 27\u001b[0m, in \u001b[0;36mselect_future\u001b[1;34m(data)\u001b[0m\n\u001b[0;32m     22\u001b[0m std_dev \u001b[39m=\u001b[39m np\u001b[39m.\u001b[39mstd(data[data\u001b[39m.\u001b[39mcolumns[index]])\n\u001b[0;32m     24\u001b[0m \u001b[39mfor\u001b[39;00m inner_index \u001b[39min\u001b[39;00m \u001b[39mrange\u001b[39m(\u001b[39mlen\u001b[39m(data[data\u001b[39m.\u001b[39mcolumns[index]])):\n\u001b[0;32m     25\u001b[0m     \n\u001b[0;32m     26\u001b[0m     \u001b[39m# i know that there is 2 possible pistachios in the dataset, so i hard-coded them.\u001b[39;00m\n\u001b[1;32m---> 27\u001b[0m     std_dev \u001b[39m=\u001b[39m np\u001b[39m.\u001b[39;49mstd(data[data\u001b[39m.\u001b[39;49mcolumns[inner_index]])\n\u001b[0;32m     28\u001b[0m     \u001b[39mif\u001b[39;00m data\u001b[39m.\u001b[39miloc[inner_index][\u001b[39m-\u001b[39m\u001b[39m1\u001b[39m] \u001b[39m==\u001b[39m \u001b[39m'\u001b[39m\u001b[39mKirmizi_Pistachio\u001b[39m\u001b[39m'\u001b[39m:\n\u001b[0;32m     29\u001b[0m         Kirmizi_Pistachio_values \u001b[39m+\u001b[39m\u001b[39m=\u001b[39m data\u001b[39m.\u001b[39miloc[inner_index][\u001b[39m0\u001b[39m]\n",
      "File \u001b[1;32mc:\\Users\\hbkar\\OneDrive\\Masaüstü\\DecisionTree\\.venv\\Lib\\site-packages\\numpy\\core\\fromnumeric.py:3643\u001b[0m, in \u001b[0;36mstd\u001b[1;34m(a, axis, dtype, out, ddof, keepdims, where)\u001b[0m\n\u001b[0;32m   3641\u001b[0m         \u001b[39mpass\u001b[39;00m\n\u001b[0;32m   3642\u001b[0m     \u001b[39melse\u001b[39;00m:\n\u001b[1;32m-> 3643\u001b[0m         \u001b[39mreturn\u001b[39;00m std(axis\u001b[39m=\u001b[39;49maxis, dtype\u001b[39m=\u001b[39;49mdtype, out\u001b[39m=\u001b[39;49mout, ddof\u001b[39m=\u001b[39;49mddof, \u001b[39m*\u001b[39;49m\u001b[39m*\u001b[39;49mkwargs)\n\u001b[0;32m   3645\u001b[0m \u001b[39mreturn\u001b[39;00m _methods\u001b[39m.\u001b[39m_std(a, axis\u001b[39m=\u001b[39maxis, dtype\u001b[39m=\u001b[39mdtype, out\u001b[39m=\u001b[39mout, ddof\u001b[39m=\u001b[39mddof,\n\u001b[0;32m   3646\u001b[0m                      \u001b[39m*\u001b[39m\u001b[39m*\u001b[39mkwargs)\n",
      "File \u001b[1;32mc:\\Users\\hbkar\\OneDrive\\Masaüstü\\DecisionTree\\.venv\\Lib\\site-packages\\pandas\\core\\series.py:6269\u001b[0m, in \u001b[0;36mSeries.std\u001b[1;34m(self, axis, skipna, ddof, numeric_only, **kwargs)\u001b[0m\n\u001b[0;32m   6260\u001b[0m \u001b[39m@doc\u001b[39m(make_doc(\u001b[39m\"\u001b[39m\u001b[39mstd\u001b[39m\u001b[39m\"\u001b[39m, ndim\u001b[39m=\u001b[39m\u001b[39m1\u001b[39m))\n\u001b[0;32m   6261\u001b[0m \u001b[39mdef\u001b[39;00m \u001b[39mstd\u001b[39m(\n\u001b[0;32m   6262\u001b[0m     \u001b[39mself\u001b[39m,\n\u001b[1;32m   (...)\u001b[0m\n\u001b[0;32m   6267\u001b[0m     \u001b[39m*\u001b[39m\u001b[39m*\u001b[39mkwargs,\n\u001b[0;32m   6268\u001b[0m ):\n\u001b[1;32m-> 6269\u001b[0m     \u001b[39mreturn\u001b[39;00m NDFrame\u001b[39m.\u001b[39;49mstd(\u001b[39mself\u001b[39;49m, axis, skipna, ddof, numeric_only, \u001b[39m*\u001b[39;49m\u001b[39m*\u001b[39;49mkwargs)\n",
      "File \u001b[1;32mc:\\Users\\hbkar\\OneDrive\\Masaüstü\\DecisionTree\\.venv\\Lib\\site-packages\\pandas\\core\\generic.py:11907\u001b[0m, in \u001b[0;36mNDFrame.std\u001b[1;34m(self, axis, skipna, ddof, numeric_only, **kwargs)\u001b[0m\n\u001b[0;32m  11899\u001b[0m \u001b[39mdef\u001b[39;00m \u001b[39mstd\u001b[39m(\n\u001b[0;32m  11900\u001b[0m     \u001b[39mself\u001b[39m,\n\u001b[0;32m  11901\u001b[0m     axis: Axis \u001b[39m|\u001b[39m \u001b[39mNone\u001b[39;00m \u001b[39m=\u001b[39m \u001b[39m0\u001b[39m,\n\u001b[1;32m   (...)\u001b[0m\n\u001b[0;32m  11905\u001b[0m     \u001b[39m*\u001b[39m\u001b[39m*\u001b[39mkwargs,\n\u001b[0;32m  11906\u001b[0m ) \u001b[39m-\u001b[39m\u001b[39m>\u001b[39m Series \u001b[39m|\u001b[39m \u001b[39mfloat\u001b[39m:\n\u001b[1;32m> 11907\u001b[0m     \u001b[39mreturn\u001b[39;00m \u001b[39mself\u001b[39;49m\u001b[39m.\u001b[39;49m_stat_function_ddof(\n\u001b[0;32m  11908\u001b[0m         \u001b[39m\"\u001b[39;49m\u001b[39mstd\u001b[39;49m\u001b[39m\"\u001b[39;49m, nanops\u001b[39m.\u001b[39;49mnanstd, axis, skipna, ddof, numeric_only, \u001b[39m*\u001b[39;49m\u001b[39m*\u001b[39;49mkwargs\n\u001b[0;32m  11909\u001b[0m     )\n",
      "File \u001b[1;32mc:\\Users\\hbkar\\OneDrive\\Masaüstü\\DecisionTree\\.venv\\Lib\\site-packages\\pandas\\core\\generic.py:11871\u001b[0m, in \u001b[0;36mNDFrame._stat_function_ddof\u001b[1;34m(self, name, func, axis, skipna, ddof, numeric_only, **kwargs)\u001b[0m\n\u001b[0;32m  11868\u001b[0m \u001b[39melif\u001b[39;00m axis \u001b[39mis\u001b[39;00m lib\u001b[39m.\u001b[39mno_default:\n\u001b[0;32m  11869\u001b[0m     axis \u001b[39m=\u001b[39m \u001b[39m0\u001b[39m\n\u001b[1;32m> 11871\u001b[0m \u001b[39mreturn\u001b[39;00m \u001b[39mself\u001b[39;49m\u001b[39m.\u001b[39;49m_reduce(\n\u001b[0;32m  11872\u001b[0m     func, name, axis\u001b[39m=\u001b[39;49maxis, numeric_only\u001b[39m=\u001b[39;49mnumeric_only, skipna\u001b[39m=\u001b[39;49mskipna, ddof\u001b[39m=\u001b[39;49mddof\n\u001b[0;32m  11873\u001b[0m )\n",
      "File \u001b[1;32mc:\\Users\\hbkar\\OneDrive\\Masaüstü\\DecisionTree\\.venv\\Lib\\site-packages\\pandas\\core\\series.py:6134\u001b[0m, in \u001b[0;36mSeries._reduce\u001b[1;34m(self, op, name, axis, skipna, numeric_only, filter_type, **kwds)\u001b[0m\n\u001b[0;32m   6129\u001b[0m     \u001b[39m# GH#47500 - change to TypeError to match other methods\u001b[39;00m\n\u001b[0;32m   6130\u001b[0m     \u001b[39mraise\u001b[39;00m \u001b[39mTypeError\u001b[39;00m(\n\u001b[0;32m   6131\u001b[0m         \u001b[39mf\u001b[39m\u001b[39m\"\u001b[39m\u001b[39mSeries.\u001b[39m\u001b[39m{\u001b[39;00mname\u001b[39m}\u001b[39;00m\u001b[39m does not allow \u001b[39m\u001b[39m{\u001b[39;00mkwd_name\u001b[39m}\u001b[39;00m\u001b[39m=\u001b[39m\u001b[39m{\u001b[39;00mnumeric_only\u001b[39m}\u001b[39;00m\u001b[39m \u001b[39m\u001b[39m\"\u001b[39m\n\u001b[0;32m   6132\u001b[0m         \u001b[39m\"\u001b[39m\u001b[39mwith non-numeric dtypes.\u001b[39m\u001b[39m\"\u001b[39m\n\u001b[0;32m   6133\u001b[0m     )\n\u001b[1;32m-> 6134\u001b[0m \u001b[39mreturn\u001b[39;00m op(delegate, skipna\u001b[39m=\u001b[39;49mskipna, \u001b[39m*\u001b[39;49m\u001b[39m*\u001b[39;49mkwds)\n",
      "File \u001b[1;32mc:\\Users\\hbkar\\OneDrive\\Masaüstü\\DecisionTree\\.venv\\Lib\\site-packages\\pandas\\core\\nanops.py:147\u001b[0m, in \u001b[0;36mbottleneck_switch.__call__.<locals>.f\u001b[1;34m(values, axis, skipna, **kwds)\u001b[0m\n\u001b[0;32m    145\u001b[0m         result \u001b[39m=\u001b[39m alt(values, axis\u001b[39m=\u001b[39maxis, skipna\u001b[39m=\u001b[39mskipna, \u001b[39m*\u001b[39m\u001b[39m*\u001b[39mkwds)\n\u001b[0;32m    146\u001b[0m \u001b[39melse\u001b[39;00m:\n\u001b[1;32m--> 147\u001b[0m     result \u001b[39m=\u001b[39m alt(values, axis\u001b[39m=\u001b[39;49maxis, skipna\u001b[39m=\u001b[39;49mskipna, \u001b[39m*\u001b[39;49m\u001b[39m*\u001b[39;49mkwds)\n\u001b[0;32m    149\u001b[0m \u001b[39mreturn\u001b[39;00m result\n",
      "File \u001b[1;32mc:\\Users\\hbkar\\OneDrive\\Masaüstü\\DecisionTree\\.venv\\Lib\\site-packages\\pandas\\core\\nanops.py:944\u001b[0m, in \u001b[0;36mnanstd\u001b[1;34m(values, axis, skipna, ddof, mask)\u001b[0m\n\u001b[0;32m    941\u001b[0m orig_dtype \u001b[39m=\u001b[39m values\u001b[39m.\u001b[39mdtype\n\u001b[0;32m    942\u001b[0m values, mask \u001b[39m=\u001b[39m _get_values(values, skipna, mask\u001b[39m=\u001b[39mmask)\n\u001b[1;32m--> 944\u001b[0m result \u001b[39m=\u001b[39m np\u001b[39m.\u001b[39msqrt(nanvar(values, axis\u001b[39m=\u001b[39;49maxis, skipna\u001b[39m=\u001b[39;49mskipna, ddof\u001b[39m=\u001b[39;49mddof, mask\u001b[39m=\u001b[39;49mmask))\n\u001b[0;32m    945\u001b[0m \u001b[39mreturn\u001b[39;00m _wrap_results(result, orig_dtype)\n",
      "File \u001b[1;32mc:\\Users\\hbkar\\OneDrive\\Masaüstü\\DecisionTree\\.venv\\Lib\\site-packages\\pandas\\core\\nanops.py:92\u001b[0m, in \u001b[0;36mdisallow.__call__.<locals>._f\u001b[1;34m(*args, **kwargs)\u001b[0m\n\u001b[0;32m     86\u001b[0m \u001b[39mexcept\u001b[39;00m \u001b[39mValueError\u001b[39;00m \u001b[39mas\u001b[39;00m e:\n\u001b[0;32m     87\u001b[0m     \u001b[39m# we want to transform an object array\u001b[39;00m\n\u001b[0;32m     88\u001b[0m     \u001b[39m# ValueError message to the more typical TypeError\u001b[39;00m\n\u001b[0;32m     89\u001b[0m     \u001b[39m# e.g. this is normally a disallowed function on\u001b[39;00m\n\u001b[0;32m     90\u001b[0m     \u001b[39m# object arrays that contain strings\u001b[39;00m\n\u001b[0;32m     91\u001b[0m     \u001b[39mif\u001b[39;00m is_object_dtype(args[\u001b[39m0\u001b[39m]):\n\u001b[1;32m---> 92\u001b[0m         \u001b[39mraise\u001b[39;00m \u001b[39mTypeError\u001b[39;00m(e) \u001b[39mfrom\u001b[39;00m \u001b[39me\u001b[39;00m\n\u001b[0;32m     93\u001b[0m     \u001b[39mraise\u001b[39;00m\n",
      "\u001b[1;31mTypeError\u001b[0m: could not convert string to float: 'Kirmizi_Pistachio'"
     ]
    }
   ],
   "source": [
    "relevence = select_future(train)"
   ]
  },
  {
   "cell_type": "code",
   "execution_count": 12,
   "metadata": {},
   "outputs": [
    {
     "ename": "NameError",
     "evalue": "name 'relevence' is not defined",
     "output_type": "error",
     "traceback": [
      "\u001b[1;31m---------------------------------------------------------------------------\u001b[0m",
      "\u001b[1;31mNameError\u001b[0m                                 Traceback (most recent call last)",
      "Cell \u001b[1;32mIn[12], line 1\u001b[0m\n\u001b[1;32m----> 1\u001b[0m relevence\n",
      "\u001b[1;31mNameError\u001b[0m: name 'relevence' is not defined"
     ]
    }
   ],
   "source": [
    "relevence"
   ]
  },
  {
   "cell_type": "code",
   "execution_count": 13,
   "metadata": {},
   "outputs": [
    {
     "ename": "NameError",
     "evalue": "name 'relevence' is not defined",
     "output_type": "error",
     "traceback": [
      "\u001b[1;31m---------------------------------------------------------------------------\u001b[0m",
      "\u001b[1;31mNameError\u001b[0m                                 Traceback (most recent call last)",
      "Cell \u001b[1;32mIn[13], line 1\u001b[0m\n\u001b[1;32m----> 1\u001b[0m \u001b[39mmin\u001b[39m(relevence)\n",
      "\u001b[1;31mNameError\u001b[0m: name 'relevence' is not defined"
     ]
    }
   ],
   "source": [
    "min(relevence)"
   ]
  },
  {
   "cell_type": "code",
   "execution_count": 14,
   "metadata": {},
   "outputs": [
    {
     "data": {
      "text/plain": [
       "0       Kirmizi_Pistachio\n",
       "1          Siit_Pistachio\n",
       "2       Kirmizi_Pistachio\n",
       "3       Kirmizi_Pistachio\n",
       "4       Kirmizi_Pistachio\n",
       "              ...        \n",
       "1710       Siit_Pistachio\n",
       "1712       Siit_Pistachio\n",
       "1714    Kirmizi_Pistachio\n",
       "1715       Siit_Pistachio\n",
       "1716    Kirmizi_Pistachio\n",
       "Name: Class, Length: 1375, dtype: object"
      ]
     },
     "execution_count": 14,
     "metadata": {},
     "output_type": "execute_result"
    }
   ],
   "source": [
    "train[train.columns[16]]"
   ]
  },
  {
   "cell_type": "code",
   "execution_count": 42,
   "metadata": {},
   "outputs": [],
   "source": [
    "x = train[train.columns[15]]\n",
    "y = train[train.columns[-1]]"
   ]
  },
  {
   "cell_type": "code",
   "execution_count": 43,
   "metadata": {},
   "outputs": [
    {
     "data": {
      "text/plain": [
       "0.050848436521746816"
      ]
     },
     "execution_count": 43,
     "metadata": {},
     "output_type": "execute_result"
    }
   ],
   "source": [
    "np.std(x)"
   ]
  },
  {
   "cell_type": "code",
   "execution_count": 44,
   "metadata": {},
   "outputs": [
    {
     "data": {
      "image/png": "[encoded data removed]",
      "text/plain": [
       "<Figure size 640x480 with 1 Axes>"
      ]
     },
     "metadata": {},
     "output_type": "display_data"
    }
   ],
   "source": [
    "fig, ax = plt.subplots()\n",
    "\n",
    "ax.scatter(x, y)\n",
    "\n",
    "\n",
    "plt.show()"
   ]
  },
  {
   "cell_type": "code",
   "execution_count": 25,
   "metadata": {},
   "outputs": [
    {
     "data": {
      "text/plain": [
       "AREA                         73107\n",
       "PERIMETER                 1161.807\n",
       "MAJOR_AXIS                442.4074\n",
       "MINOR_AXIS                217.7261\n",
       "ECCENTRICITY                0.8705\n",
       "EQDIASQ                   305.0946\n",
       "SOLIDITY                    0.9424\n",
       "CONVEX_AREA                  77579\n",
       "EXTENT                       0.771\n",
       "ASPECT_RATIO                2.0319\n",
       "ROUNDNESS                   0.6806\n",
       "COMPACTNESS                 0.6896\n",
       "SHAPEFACTOR_1               0.0061\n",
       "SHAPEFACTOR_2                0.003\n",
       "SHAPEFACTOR_3               0.4756\n",
       "SHAPEFACTOR_4               0.9664\n",
       "Class            Kirmizi_Pistachio\n",
       "Name: 0, dtype: object"
      ]
     },
     "execution_count": 25,
     "metadata": {},
     "output_type": "execute_result"
    }
   ],
   "source": [
    "data.iloc[0]"
   ]
  },
  {
   "cell_type": "code",
   "execution_count": 47,
   "metadata": {},
   "outputs": [
    {
     "name": "stdout",
     "output_type": "stream",
     "text": [
      "First breakpoint 64812.80843467276\n",
      "Second breakpoint 94708.99229259996\n",
      "First breakpoint 988.4696245306855\n",
      "Second breakpoint 1856.2550753965875\n",
      "First breakpoint 408.5739964081537\n",
      "Second breakpoint 483.2091036645736\n",
      "First breakpoint 202.99709899006712\n",
      "Second breakpoint 273.3910358462965\n",
      "breakpoint 0.8400675636363636\n",
      "First breakpoint 286.87519656883603\n",
      "Second breakpoint 348.25883004934576\n",
      "breakpoint 0.939609890909091\n",
      "First breakpoint 69721.22690346843\n",
      "Second breakpoint 100057.20655107702\n",
      "breakpoint 0.7162411636363636\n",
      "breakpoint 1.8977722181818177\n",
      "breakpoint 0.5703709090909092\n",
      "breakpoint 0.7128584\n",
      "breakpoint 0.005707127272727273\n",
      "breakpoint 0.0030218181818181815\n",
      "breakpoint 0.5100820363636364\n",
      "breakpoint 0.9546537454545455\n",
      "{'AREA': (1.399650959860384, 'HP'), 'PERIMETER': (1.399650959860384, 'HP'), 'MAJOR_AXIS': (1.399650959860384, 'HP'), 'MINOR_AXIS': (1.399650959860384, 'HP'), 'ECCENTRICITY': (1.399650959860384, 'LP'), 'EQDIASQ': (1.399650959860384, 'HP'), 'SOLIDITY': (1.399650959860384, 'LP'), 'CONVEX_AREA': (1.399650959860384, 'HP'), 'EXTENT': (1.399650959860384, 'LP'), 'ASPECT_RATIO': (1.399650959860384, 'LP'), 'ROUNDNESS': (1.399650959860384, 'LP'), 'COMPACTNESS': (1.399650959860384, 'LP'), 'SHAPEFACTOR_1': (1.399650959860384, 'LP'), 'SHAPEFACTOR_2': (1.399650959860384, 'LP'), 'SHAPEFACTOR_3': (1.399650959860384, 'LP'), 'SHAPEFACTOR_4': (1.399650959860384, 'LP')}\n"
     ]
    }
   ],
   "source": [
    "import pandas as pd\n",
    "import random\n",
    "import matplotlib.pyplot as plt\n",
    "import numpy as np\n",
    "import warnings\n",
    "warnings.filterwarnings('ignore')\n",
    "\n",
    "def test_train_split(data,train_ratio):\n",
    "    \n",
    "    ''' \n",
    "    Splits the dataset with respect to the test train ratio\n",
    "    data: dataset to split\n",
    "    train_ratio: the ratio of train part to the whole dataset \n",
    "    returns test set, train set\n",
    "    '''\n",
    "\n",
    "    lenght_of_dataset = len(data)\n",
    "    amount_of_data = int((train_ratio/100)*lenght_of_dataset)\n",
    "\n",
    "    train_set = []\n",
    "    test_set = []\n",
    "\n",
    "    random_index_list = []\n",
    "\n",
    "    for index in range(amount_of_data):\n",
    "        while len(random_index_list) <= amount_of_data:\n",
    "            random_index = random.randrange(lenght_of_dataset)\n",
    "            if random_index not in random_index_list:\n",
    "                random_index_list.append(random_index)\n",
    "            else:\n",
    "                pass\n",
    "\n",
    "    for index in range(lenght_of_dataset):\n",
    "        if index not in random_index_list:\n",
    "            test_set.append(data.iloc[index])\n",
    "        else:\n",
    "            train_set.append(data.iloc[index])\n",
    "\n",
    "    return pd.DataFrame(test_set), pd.DataFrame(train_set)\n",
    "\n",
    "def select_future(data = pd.DataFrame): \n",
    "    \n",
    "    ''' \n",
    "    This function takes the best feature to choose for optimal gain\n",
    "    returns the classes and their relevence, the higher is better\n",
    "    '''\n",
    "\n",
    "    # its assumed that one column is for results and its the last column\n",
    "    number_of_features = len(data.columns) - 1\n",
    "\n",
    "    purity = {}\n",
    "    \n",
    "\n",
    "    for index in range(number_of_features):\n",
    "\n",
    "        \n",
    "        Kirmizi_Pistachio = 0\n",
    "        Siit_Pistachio = 0\n",
    "        \n",
    "        Kirmizi_Pistachio_values = 0\n",
    "        Siit_Pistachio_values = 0\n",
    "\n",
    "        std_dev = np.std(data[data.columns[index]])\n",
    "        mean = np.mean(data[data.columns[index]])\n",
    "\n",
    "        for inner_index in range(len(data[data.columns[index]])):\n",
    "            \n",
    "            # i know that there is 2 possible pistachios in the dataset, so i hard-coded them.\n",
    "            if data.iloc[inner_index][-1] == 'Kirmizi_Pistachio':\n",
    "                Kirmizi_Pistachio_values += data.iloc[inner_index][0]\n",
    "                Kirmizi_Pistachio += 1\n",
    "            elif data.iloc[inner_index][-1] == 'Siit_Pistachio':\n",
    "                Siit_Pistachio_values += data.iloc[inner_index][0]\n",
    "                Siit_Pistachio += 1\n",
    "\n",
    "        mean_siit = Siit_Pistachio_values/len(data[data.columns[index]])\n",
    "        mean_kirmizi = Kirmizi_Pistachio_values/len(data[data.columns[index]])\n",
    "\n",
    "        diff_ratio = str(abs(mean_kirmizi/mean_siit))\n",
    "\n",
    "        if std_dev > float(diff_ratio):\n",
    "            print(f'First breakpoint {mean - float(std_dev)*float(diff_ratio)}')\n",
    "            print(f'Second breakpoint {mean + float(std_dev)*float(diff_ratio)}')\n",
    "            purity.update({data.columns[index] : (abs(Kirmizi_Pistachio/Siit_Pistachio),'HP')})\n",
    "            # HP -> high priority\n",
    "            \n",
    "\n",
    "        else:\n",
    "            print(f'breakpoint {mean}')\n",
    "            purity.update({data.columns[index] : (abs(Kirmizi_Pistachio/Siit_Pistachio),'LP')})\n",
    "            #LP -> low priority\n",
    "\n",
    "    return purity\n",
    "\n",
    "\n",
    "def main():\n",
    "\n",
    "    data = pd.read_csv('pistachio.csv')\n",
    "    test,train = test_train_split(data,80)\n",
    "    relevence = select_future(train)\n",
    "    print(relevence)\n",
    "\n",
    "if __name__==\"__main__\":\n",
    "    main()"
   ]
  },
  {
   "cell_type": "code",
   "execution_count": null,
   "metadata": {},
   "outputs": [],
   "source": []
  }
 ],
 "metadata": {
  "kernelspec": {
   "display_name": "Python 3",
   "language": "python",
   "name": "python3"
  },
  "language_info": {
   "codemirror_mode": {
    "name": "ipython",
    "version": 3
   },
   "file_extension": ".py",
   "mimetype": "text/x-python",
   "name": "python",
   "nbconvert_exporter": "python",
   "pygments_lexer": "ipython3",
   "version": "3.11.5"
  },
  "orig_nbformat": 4
 },
 "nbformat": 4,
 "nbformat_minor": 2
}
